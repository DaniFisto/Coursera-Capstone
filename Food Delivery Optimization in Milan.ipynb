{
 "cells": [
  {
   "cell_type": "markdown",
   "metadata": {},
   "source": [
    "# Food Delivery Optimization in Milan"
   ]
  },
  {
   "cell_type": "markdown",
   "metadata": {},
   "source": [
    "## Introduction"
   ]
  },
  {
   "cell_type": "markdown",
   "metadata": {},
   "source": [
    "In this project we will find the best placements for a number, in this case 10, of food couriers in Milan to optimize the delivery service with faster and better deliveries and also improve working conditions of couriers who will have to travel less distance.  "
   ]
  },
  {
   "cell_type": "markdown",
   "metadata": {},
   "source": [
    "## Business Problem"
   ]
  },
  {
   "cell_type": "markdown",
   "metadata": {},
   "source": [
    "In Milan there are many food delivery services and many more restaurants, so the optimal organization beetween these two fundamental components of the food business is essential to create an efficient and profitable system. \n",
    "By finding the optimal location in which the couriers will wait the next order is useful to reduce the time necessary to reach the restaurant, so the meal will be better, the client will wait less and the courier will travel less distance."
   ]
  },
  {
   "cell_type": "markdown",
   "metadata": {},
   "source": [
    "## Data Description"
   ]
  },
  {
   "cell_type": "markdown",
   "metadata": {},
   "source": [
    "Using the Foursquare API we will retrieve the data of the restaurants and food services in the area of Milan, which has a location of 45°28'01\" N and 09°11'24\" E. For each activity we will retrieve name, position and type of cuisine. Through a KK-means algorithm with 10 point we will define the locations which minimize the distance beetween the couriers and the restaurants and finally we will analize the composition of each cluster of restaurants by their cousine.    "
   ]
  },
  {
   "cell_type": "code",
   "execution_count": 16,
   "metadata": {},
   "outputs": [],
   "source": [
    "import numpy as np\n",
    "import requests\n",
    "import json"
   ]
  },
  {
   "cell_type": "code",
   "execution_count": 33,
   "metadata": {},
   "outputs": [
    {
     "name": "stdout",
     "output_type": "stream",
     "text": [
      "Collecting package metadata (repodata.json): ...working... done\n",
      "Solving environment: ...working... done\n",
      "\n",
      "# All requested packages already installed.\n",
      "\n"
     ]
    }
   ],
   "source": [
    "!conda install pandas==1.1.0 --yes\n",
    "import pandas as pd\n",
    "from pandas.io.json import json_normalize"
   ]
  },
  {
   "cell_type": "code",
   "execution_count": 34,
   "metadata": {},
   "outputs": [
    {
     "name": "stdout",
     "output_type": "stream",
     "text": [
      "Your credentails:\n",
      "CLIENT_ID: TS4O02SW4CRHYCFOSATBLREBBH5QB3FIZD4IEDUPFZFUOLUV\n",
      "CLIENT_SECRET:NGJ0VOEPCK4LCVQMXDUYRNSO2BO0ZW0OHQGV1TWRQQU4K4KY\n"
     ]
    }
   ],
   "source": [
    "CLIENT_ID = 'TS4O02SW4CRHYCFOSATBLREBBH5QB3FIZD4IEDUPFZFUOLUV' # your Foursquare ID\n",
    "CLIENT_SECRET = 'NGJ0VOEPCK4LCVQMXDUYRNSO2BO0ZW0OHQGV1TWRQQU4K4KY' # your Foursquare Secret\n",
    "VERSION = '20180605' # Foursquare API version\n",
    "\n",
    "print('Your credentails:')\n",
    "print('CLIENT_ID: ' + CLIENT_ID)\n",
    "print('CLIENT_SECRET:' + CLIENT_SECRET)"
   ]
  },
  {
   "cell_type": "code",
   "execution_count": 35,
   "metadata": {},
   "outputs": [],
   "source": [
    "milan_latitude = 45.4669444\n",
    "milan_longitude = 9.19"
   ]
  },
  {
   "cell_type": "code",
   "execution_count": 81,
   "metadata": {},
   "outputs": [
    {
     "data": {
      "text/plain": [
       "'https://api.foursquare.com/v2/venues/explore?&client_id=TS4O02SW4CRHYCFOSATBLREBBH5QB3FIZD4IEDUPFZFUOLUV&client_secret=NGJ0VOEPCK4LCVQMXDUYRNSO2BO0ZW0OHQGV1TWRQQU4K4KY&v=20180605&ll=45.4669444,9.19&radius=500&limit=100&categoryId=4d4b7105d754a06374d81259'"
      ]
     },
     "execution_count": 81,
     "metadata": {},
     "output_type": "execute_result"
    }
   ],
   "source": [
    "# type your answer here\n",
    "LIMIT = 100 # limit of number of venues returned by Foursquare API\n",
    "radius = 500 # define radius\n",
    "categoryId = '4d4b7105d754a06374d81259' #Food category\n",
    "\n",
    "# create URL\n",
    "url = 'https://api.foursquare.com/v2/venues/explore?&client_id={}&client_secret={}&v={}&ll={},{}&radius={}&limit={}&categoryId={}'.format(\n",
    "    CLIENT_ID, \n",
    "    CLIENT_SECRET, \n",
    "    VERSION, \n",
    "    milan_latitude, \n",
    "    milan_longitude, \n",
    "    radius, \n",
    "    LIMIT, \n",
    "    categoryId)\n",
    "url # display URL\n"
   ]
  },
  {
   "cell_type": "code",
   "execution_count": 136,
   "metadata": {},
   "outputs": [],
   "source": [
    "results = requests.get(url).json()\n"
   ]
  },
  {
   "cell_type": "code",
   "execution_count": 123,
   "metadata": {},
   "outputs": [],
   "source": [
    "# function that extracts the category of the venue\n",
    "def get_category_type(row):\n",
    "\n",
    "    categories_list = row['venue.categories']\n",
    "        \n",
    "    if len(categories_list) == 0:\n",
    "        return None\n",
    "    else:\n",
    "        return categories_list[0]['name']"
   ]
  },
  {
   "cell_type": "code",
   "execution_count": 135,
   "metadata": {},
   "outputs": [
    {
     "ename": "ImportError",
     "evalue": "cannot import name 'is_url' from 'pandas.io.common' (C:\\Users\\danif\\Anaconda3\\lib\\site-packages\\pandas\\io\\common.py)",
     "output_type": "error",
     "traceback": [
      "\u001b[1;31m---------------------------------------------------------------------------\u001b[0m",
      "\u001b[1;31mImportError\u001b[0m                               Traceback (most recent call last)",
      "\u001b[1;32m~\\Anaconda3\\lib\\site-packages\\IPython\\core\\formatters.py\u001b[0m in \u001b[0;36m__call__\u001b[1;34m(self, obj)\u001b[0m\n\u001b[0;32m    343\u001b[0m             \u001b[0mmethod\u001b[0m \u001b[1;33m=\u001b[0m \u001b[0mget_real_method\u001b[0m\u001b[1;33m(\u001b[0m\u001b[0mobj\u001b[0m\u001b[1;33m,\u001b[0m \u001b[0mself\u001b[0m\u001b[1;33m.\u001b[0m\u001b[0mprint_method\u001b[0m\u001b[1;33m)\u001b[0m\u001b[1;33m\u001b[0m\u001b[1;33m\u001b[0m\u001b[0m\n\u001b[0;32m    344\u001b[0m             \u001b[1;32mif\u001b[0m \u001b[0mmethod\u001b[0m \u001b[1;32mis\u001b[0m \u001b[1;32mnot\u001b[0m \u001b[1;32mNone\u001b[0m\u001b[1;33m:\u001b[0m\u001b[1;33m\u001b[0m\u001b[1;33m\u001b[0m\u001b[0m\n\u001b[1;32m--> 345\u001b[1;33m                 \u001b[1;32mreturn\u001b[0m \u001b[0mmethod\u001b[0m\u001b[1;33m(\u001b[0m\u001b[1;33m)\u001b[0m\u001b[1;33m\u001b[0m\u001b[1;33m\u001b[0m\u001b[0m\n\u001b[0m\u001b[0;32m    346\u001b[0m             \u001b[1;32mreturn\u001b[0m \u001b[1;32mNone\u001b[0m\u001b[1;33m\u001b[0m\u001b[1;33m\u001b[0m\u001b[0m\n\u001b[0;32m    347\u001b[0m         \u001b[1;32melse\u001b[0m\u001b[1;33m:\u001b[0m\u001b[1;33m\u001b[0m\u001b[1;33m\u001b[0m\u001b[0m\n",
      "\u001b[1;32m~\\Anaconda3\\lib\\site-packages\\pandas\\core\\frame.py\u001b[0m in \u001b[0;36m_repr_html_\u001b[1;34m(self)\u001b[0m\n\u001b[0;32m    694\u001b[0m \u001b[1;33m\u001b[0m\u001b[0m\n\u001b[0;32m    695\u001b[0m         \u001b[1;31m# when auto-detecting, so width=None and not in ipython front end\u001b[0m\u001b[1;33m\u001b[0m\u001b[1;33m\u001b[0m\u001b[1;33m\u001b[0m\u001b[0m\n\u001b[1;32m--> 696\u001b[1;33m         \u001b[1;31m# check whether repr fits horizontal by actually checking\u001b[0m\u001b[1;33m\u001b[0m\u001b[1;33m\u001b[0m\u001b[1;33m\u001b[0m\u001b[0m\n\u001b[0m\u001b[0;32m    697\u001b[0m         \u001b[1;31m# the width of the rendered repr\u001b[0m\u001b[1;33m\u001b[0m\u001b[1;33m\u001b[0m\u001b[1;33m\u001b[0m\u001b[0m\n\u001b[0;32m    698\u001b[0m         \u001b[0mbuf\u001b[0m \u001b[1;33m=\u001b[0m \u001b[0mStringIO\u001b[0m\u001b[1;33m(\u001b[0m\u001b[1;33m)\u001b[0m\u001b[1;33m\u001b[0m\u001b[1;33m\u001b[0m\u001b[0m\n",
      "\u001b[1;32m~\\Anaconda3\\lib\\site-packages\\pandas\\core\\frame.py\u001b[0m in \u001b[0;36mto_html\u001b[1;34m(self, buf, columns, col_space, header, index, na_rep, formatters, float_format, sparsify, index_names, justify, bold_rows, classes, escape, max_rows, max_cols, show_dimensions, notebook, decimal, border, table_id)\u001b[0m\n\u001b[0;32m   2035\u001b[0m         mgr = arrays_to_mgr(\n\u001b[0;32m   2036\u001b[0m             \u001b[0marrays\u001b[0m\u001b[1;33m,\u001b[0m\u001b[1;33m\u001b[0m\u001b[1;33m\u001b[0m\u001b[0m\n\u001b[1;32m-> 2037\u001b[1;33m             \u001b[0mcolumns\u001b[0m\u001b[1;33m,\u001b[0m\u001b[1;33m\u001b[0m\u001b[1;33m\u001b[0m\u001b[0m\n\u001b[0m\u001b[0;32m   2038\u001b[0m             \u001b[0mindex\u001b[0m\u001b[1;33m,\u001b[0m\u001b[1;33m\u001b[0m\u001b[1;33m\u001b[0m\u001b[0m\n\u001b[0;32m   2039\u001b[0m             \u001b[0mcolumns\u001b[0m\u001b[1;33m,\u001b[0m\u001b[1;33m\u001b[0m\u001b[1;33m\u001b[0m\u001b[0m\n",
      "\u001b[1;32m~\\Anaconda3\\lib\\site-packages\\pandas\\io\\formats\\format.py\u001b[0m in \u001b[0;36mto_html\u001b[1;34m(self, classes, notebook, border)\u001b[0m\n\u001b[0;32m    745\u001b[0m                 )\n\u001b[0;32m    746\u001b[0m                 \u001b[0mstringified\u001b[0m\u001b[1;33m.\u001b[0m\u001b[0mappend\u001b[0m\u001b[1;33m(\u001b[0m\u001b[0mfmt_values\u001b[0m\u001b[1;33m)\u001b[0m\u001b[1;33m\u001b[0m\u001b[1;33m\u001b[0m\u001b[0m\n\u001b[1;32m--> 747\u001b[1;33m         \u001b[1;32melse\u001b[0m\u001b[1;33m:\u001b[0m\u001b[1;33m\u001b[0m\u001b[1;33m\u001b[0m\u001b[0m\n\u001b[0m\u001b[0;32m    748\u001b[0m             \u001b[1;32mif\u001b[0m \u001b[0mis_list_like\u001b[0m\u001b[1;33m(\u001b[0m\u001b[0mself\u001b[0m\u001b[1;33m.\u001b[0m\u001b[0mheader\u001b[0m\u001b[1;33m)\u001b[0m\u001b[1;33m:\u001b[0m\u001b[1;33m\u001b[0m\u001b[1;33m\u001b[0m\u001b[0m\n\u001b[0;32m    749\u001b[0m                 \u001b[1;31m# cast here since can't be bool if is_list_like\u001b[0m\u001b[1;33m\u001b[0m\u001b[1;33m\u001b[0m\u001b[1;33m\u001b[0m\u001b[0m\n",
      "\u001b[1;32m~\\Anaconda3\\lib\\site-packages\\pandas\\io\\formats\\html.py\u001b[0m in \u001b[0;36m<module>\u001b[1;34m\u001b[0m\n\u001b[0;32m     12\u001b[0m \u001b[1;32mfrom\u001b[0m \u001b[0mpandas\u001b[0m \u001b[1;32mimport\u001b[0m \u001b[0mMultiIndex\u001b[0m\u001b[1;33m,\u001b[0m \u001b[0moption_context\u001b[0m\u001b[1;33m\u001b[0m\u001b[1;33m\u001b[0m\u001b[0m\n\u001b[0;32m     13\u001b[0m \u001b[1;33m\u001b[0m\u001b[0m\n\u001b[1;32m---> 14\u001b[1;33m \u001b[1;32mfrom\u001b[0m \u001b[0mpandas\u001b[0m\u001b[1;33m.\u001b[0m\u001b[0mio\u001b[0m\u001b[1;33m.\u001b[0m\u001b[0mcommon\u001b[0m \u001b[1;32mimport\u001b[0m \u001b[0mis_url\u001b[0m\u001b[1;33m\u001b[0m\u001b[1;33m\u001b[0m\u001b[0m\n\u001b[0m\u001b[0;32m     15\u001b[0m from pandas.io.formats.format import (\n\u001b[0;32m     16\u001b[0m     \u001b[0mDataFrameFormatter\u001b[0m\u001b[1;33m,\u001b[0m\u001b[1;33m\u001b[0m\u001b[1;33m\u001b[0m\u001b[0m\n",
      "\u001b[1;31mImportError\u001b[0m: cannot import name 'is_url' from 'pandas.io.common' (C:\\Users\\danif\\Anaconda3\\lib\\site-packages\\pandas\\io\\common.py)"
     ]
    },
    {
     "data": {
      "text/plain": [
       "                               Name                    Category   Latitude  \\\n",
       "0                             Luini                      Bakery  45.465707   \n",
       "1                          Spontini                 Pizza Place  45.465655   \n",
       "2   Ristorante Trussardi alla Scala          Italian Restaurant  45.467036   \n",
       "3      Galleria Ristorante Pizzeria          Italian Restaurant  45.465881   \n",
       "4                  VUN Andrea Aprea          Italian Restaurant  45.465290   \n",
       "5                     Panini Durini              Sandwich Place  45.465238   \n",
       "6                       Cracco Cafè                        Café  45.465320   \n",
       "7                 Voce Aimo e Nadia                  Restaurant  45.467320   \n",
       "8                             Obicà          Italian Restaurant  45.464897   \n",
       "9                     Spazio Milano          Italian Restaurant  45.464788   \n",
       "10              Ristorante Victoria          Italian Restaurant  45.466445   \n",
       "11       La Locanda Del Gatto Rosso          Italian Restaurant  45.465615   \n",
       "12                Gran Caffè Marino          Italian Restaurant  45.466308   \n",
       "13              Corsia del Giardino          Italian Restaurant  45.469270   \n",
       "14               Bvlgari Ristorante                  Restaurant  45.470005   \n",
       "15                  Maio Restaurant          Italian Restaurant  45.464875   \n",
       "16                    Non è Peccato          Italian Restaurant  45.469146   \n",
       "17                          7's Giò                      Bakery  45.464527   \n",
       "18                    Panini Durini              Sandwich Place  45.464299   \n",
       "19                 Langosteria Café                      Bistro  45.464760   \n",
       "20                    Pino In Duomo          Italian Restaurant  45.465113   \n",
       "21             Emporio Armani Caffè                        Café  45.470403   \n",
       "22      Motta Caffè Bar Milano 1928                        Café  45.464657   \n",
       "23           Salsamenteria di Parma          Italian Restaurant  45.466309   \n",
       "24                           Cracco          Italian Restaurant  45.463919   \n",
       "25                             Bice          Italian Restaurant  45.470152   \n",
       "26                           Princi                      Bakery  45.469258   \n",
       "27                        Temakinho            Sushi Restaurant  45.463215   \n",
       "28    Il Salumaio di Montenapoleone          Italian Restaurant  45.469880   \n",
       "29                     Caffè Napoli                        Café  45.462816   \n",
       "..                              ...                         ...        ...   \n",
       "54                          Da Zero                 Pizza Place  45.469129   \n",
       "55                God Save The Food  Modern European Restaurant  45.470150   \n",
       "56           Patti Bakery & Bistrot                      Bakery  45.466903   \n",
       "57            Drogheria Parini 1915                  Restaurant  45.469932   \n",
       "58                           Wasabi         Japanese Restaurant  45.469496   \n",
       "59                       Conti Cafè          Italian Restaurant  45.468585   \n",
       "60              Hong Kong Crossover          Chinese Restaurant  45.469605   \n",
       "61                    Romantic Cafè                  Restaurant  45.468967   \n",
       "62                      Bar Biffino                        Café  45.469192   \n",
       "63              SETTE cucina urbana          Italian Restaurant  45.469173   \n",
       "64                     Don Lisander          Italian Restaurant  45.468964   \n",
       "65                       Don Carlos          Italian Restaurant  45.470171   \n",
       "66                     Giusto Gusto                      Bakery  45.468885   \n",
       "67               San Carlo Borromeo                  Restaurant  45.465940   \n",
       "68                         Carminio          Italian Restaurant  45.470478   \n",
       "69                   Le spighe café                        Café  45.467785   \n",
       "70              Biffi Scala - Toulà          Italian Restaurant  45.467806   \n",
       "71                     Caffè Milani                        Café  45.467836   \n",
       "72                 Il piccolo caffè                        Café  45.468230   \n",
       "73                  Bar Alle Spighe                        Café  45.467731   \n",
       "74         Pasta e Pizza alla Scala          Italian Restaurant  45.468131   \n",
       "75                    Panini Durini              Sandwich Place  45.467980   \n",
       "76                  Café Moroneotto                        Café  45.468431   \n",
       "77                  Identità Golose                  Restaurant  45.469006   \n",
       "78           Ristorante Il Castello                 Pizza Place  45.466658   \n",
       "79                 Saluti da Modena                      Bistro  45.469919   \n",
       "80               Eccellenze Campane                        Café  45.468769   \n",
       "81                       Poke House                  Poke Place  45.468478   \n",
       "82                       Piadineria                  Piadineria  45.469747   \n",
       "83                        La Caveja              Sandwich Place  45.469711   \n",
       "\n",
       "    Longitude  \n",
       "0    9.191431  \n",
       "1    9.191222  \n",
       "2    9.189512  \n",
       "3    9.190025  \n",
       "4    9.189133  \n",
       "5    9.188590  \n",
       "6    9.190060  \n",
       "7    9.190250  \n",
       "8    9.191891  \n",
       "9    9.190086  \n",
       "10   9.187711  \n",
       "11   9.190565  \n",
       "12   9.190432  \n",
       "13   9.192040  \n",
       "14   9.188943  \n",
       "15   9.191741  \n",
       "16   9.187463  \n",
       "17   9.188893  \n",
       "18   9.187460  \n",
       "19   9.194899  \n",
       "20   9.189332  \n",
       "21   9.192369  \n",
       "22   9.190182  \n",
       "23   9.195518  \n",
       "24   9.187327  \n",
       "25   9.194140  \n",
       "26   9.185450  \n",
       "27   9.189664  \n",
       "28   9.194600  \n",
       "29   9.189023  \n",
       "..        ...  \n",
       "54   9.187446  \n",
       "55   9.185552  \n",
       "56   9.183735  \n",
       "57   9.193810  \n",
       "58   9.185171  \n",
       "59   9.194368  \n",
       "60   9.186513  \n",
       "61   9.191596  \n",
       "62   9.191735  \n",
       "63   9.187889  \n",
       "64   9.191685  \n",
       "65   9.192099  \n",
       "66   9.185281  \n",
       "67   9.196174  \n",
       "68   9.187112  \n",
       "69   9.189450  \n",
       "70   9.189463  \n",
       "71   9.189679  \n",
       "72   9.191706  \n",
       "73   9.189640  \n",
       "74   9.189068  \n",
       "75   9.190508  \n",
       "76   9.191826  \n",
       "77   9.190098  \n",
       "78   9.184313  \n",
       "79   9.189443  \n",
       "80   9.185311  \n",
       "81   9.185387  \n",
       "82   9.185080  \n",
       "83   9.185038  \n",
       "\n",
       "[84 rows x 4 columns]"
      ]
     },
     "execution_count": 135,
     "metadata": {},
     "output_type": "execute_result"
    }
   ],
   "source": [
    "venues = json_normalize(results['response']['groups'][0]['items'])  \n",
    "\n",
    "filtered_columns = ['venue.name', 'venue.categories', 'venue.location.lat', 'venue.location.lng']\n",
    "venues = venues.loc[:, filtered_columns]\n",
    "\n",
    "categories=[]\n",
    "\n",
    "for x in range(0, len(venues)):\n",
    "\n",
    "    categories.append(get_category_type(venues.iloc[x]))\n",
    "    \n",
    "venues['venue.categories'] = categories\n",
    "venues.columns = ['Name', 'Category', 'Latitude', 'Longitude']\n",
    "venues"
   ]
  },
  {
   "cell_type": "code",
   "execution_count": null,
   "metadata": {},
   "outputs": [],
   "source": []
  }
 ],
 "metadata": {
  "kernelspec": {
   "display_name": "Python 3",
   "language": "python",
   "name": "python3"
  },
  "language_info": {
   "codemirror_mode": {
    "name": "ipython",
    "version": 3
   },
   "file_extension": ".py",
   "mimetype": "text/x-python",
   "name": "python",
   "nbconvert_exporter": "python",
   "pygments_lexer": "ipython3",
   "version": "3.7.1"
  }
 },
 "nbformat": 4,
 "nbformat_minor": 2
}
